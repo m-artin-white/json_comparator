{
 "cells": [
  {
   "cell_type": "code",
   "execution_count": 1,
   "metadata": {},
   "outputs": [
    {
     "data": {
      "text/plain": [
       "('77.27% similar',\n",
       " [\"Value difference at employees[0].date_of_birth: '01-15-1980' vs '01-15-2000'\",\n",
       "  \"Value difference at employees[0].relationship: 'spouse' vs 'employee'\",\n",
       "  \"Value difference at employees[2].gender: 'Female' vs 'Male'\",\n",
       "  \"Value difference at employees[2].relationship: 'man' vs 'child'\",\n",
       "  \"Value difference at number_of_lives: '2' vs '3'\"])"
      ]
     },
     "execution_count": 1,
     "metadata": {},
     "output_type": "execute_result"
    }
   ],
   "source": [
    "from json_comparator import JsonComparator\n",
    "json_comparator = JsonComparator(threshold=90, json_file_1=\"test_files/test_1.json\", json_file_2=\"test_files/test_2.json\")\n",
    "json_comparator.get_comparison()"
   ]
  }
 ],
 "metadata": {
  "kernelspec": {
   "display_name": ".venv",
   "language": "python",
   "name": "python3"
  },
  "language_info": {
   "codemirror_mode": {
    "name": "ipython",
    "version": 3
   },
   "file_extension": ".py",
   "mimetype": "text/x-python",
   "name": "python",
   "nbconvert_exporter": "python",
   "pygments_lexer": "ipython3",
   "version": "3.11.6"
  }
 },
 "nbformat": 4,
 "nbformat_minor": 2
}
